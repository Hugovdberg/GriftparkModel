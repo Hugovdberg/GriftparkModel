{
 "cells": [
  {
   "cell_type": "code",
   "execution_count": 1,
   "metadata": {},
   "outputs": [
    {
     "name": "stdout",
     "output_type": "stream",
     "text": [
      "flopy is installed in /home/hugo/.local/share/virtualenvs/Project-pEysIiSA/lib/python3.7/site-packages/flopy\n"
     ]
    }
   ],
   "source": [
    "from collections import namedtuple\n",
    "from pathlib import Path\n",
    "\n",
    "import matplotlib.pyplot as plt\n",
    "import numpy as np\n",
    "\n",
    "import flopy\n",
    "import gstools"
   ]
  },
  {
   "cell_type": "code",
   "execution_count": 2,
   "metadata": {},
   "outputs": [],
   "source": [
    "modelname = 'Griftpark'\n",
    "model_workspace = Path(modelname)"
   ]
  },
  {
   "cell_type": "code",
   "execution_count": 3,
   "metadata": {},
   "outputs": [],
   "source": [
    "model_bbox = [136175, 455525, 138775, 458150]\n",
    "model_extent = np.array([(x, y) for x, y in zip(model_bbox[::2], model_bbox[1::2])], dtype = [('X', float), ('Y', float)])\n",
    "layer_boundaries = [0, -20, -60]\n",
    "n_sublayers = 5\n",
    "\n",
    "col_width = np.diff(np.linspace(*model_extent['X'], 100+1))\n",
    "row_height = np.diff(np.linspace(*model_extent['Y'], 100+1))\n",
    "\n",
    "StressPeriod = namedtuple(\n",
    "    typename='StressPeriod',\n",
    "    field_names=('period_length', 'n_steps', 'step_multiplier', 'steady_state'), \n",
    "    defaults=(float(1), int(1), float(1), True)\n",
    ")\n",
    "stress_periods = [\n",
    "    StressPeriod(period_length=1, n_steps=1, step_multiplier=1, steady_state=True)\n",
    "]"
   ]
  },
  {
   "cell_type": "code",
   "execution_count": 4,
   "metadata": {},
   "outputs": [],
   "source": [
    "top = layer_boundaries[0]\n",
    "bottoms = np.hstack([np.linspace(u, l, n_sublayers+1)[1:]\n",
    "                     for u,l in zip(layer_boundaries[:-1], layer_boundaries[1:])])\n",
    "\n",
    "stress_period_dtype = np.dtype([('period_length', np.float),\n",
    "                                ('n_steps', np.int),\n",
    "                                ('step_multiplier', np.float),\n",
    "                                ('steady_state', np.bool)])\n",
    "stress_periods = np.array(stress_periods,\n",
    "                          dtype=stress_period_dtype)\n",
    "\n",
    "n_layers = bottoms.size\n",
    "n_cols = col_width.size\n",
    "n_rows = row_height.size\n",
    "n_stress_periods = stress_periods.size\n",
    "\n",
    "mf = flopy.modflow.Modflow(\n",
    "    modelname=modelname,\n",
    "    version='mf2005',\n",
    "    exe_name='mf2005',\n",
    "    model_ws=model_workspace,\n",
    "    xll=model_extent['X'][0],\n",
    "    yll=model_extent['Y'][0],\n",
    "    proj4_str='EPSG:28992'\n",
    ")\n",
    "dis = flopy.modflow.ModflowDis(\n",
    "    model=mf,\n",
    "    nlay=n_layers,\n",
    "    nrow=n_rows,\n",
    "    ncol=n_cols,\n",
    "    delr=col_width,\n",
    "    delc=row_height,\n",
    "    top=top,\n",
    "    botm=bottoms,\n",
    "    perlen=stress_periods['period_length'],\n",
    "    nstp=stress_periods['n_steps'],\n",
    "    tsmult=stress_periods['step_multiplier'],\n",
    "    steady=stress_periods['steady_state'],\n",
    ")"
   ]
  },
  {
   "cell_type": "code",
   "execution_count": 5,
   "metadata": {},
   "outputs": [],
   "source": [
    "node_x, node_y, node_z = dis.get_node_coordinates()\n",
    "node_vol = dis.get_cell_volumes()\n",
    "node_x, node_y = np.meshgrid(node_x, node_y)\n",
    "node_x = np.tile(node_x, (len(node_z), 1, 1))\n",
    "node_y = np.tile(node_y, (len(node_z), 1, 1))\n",
    "node_x.shape, node_y.shape, node_z.shape, node_vol.shape\n",
    "node_x_world = model_extent['X'][1] - node_x\n",
    "node_y_world = model_extent['Y'][1] - node_y"
   ]
  },
  {
   "cell_type": "code",
   "execution_count": 6,
   "metadata": {},
   "outputs": [],
   "source": [
    "import scipy.ndimage as si\n",
    "import shapefile as shp\n",
    "contours_h1 = shp.Reader('data/h1.shp')\n",
    "contours_h2 = shp.Reader('data/h2.shp')\n",
    "\n",
    "east_l2 = node_y_world[0] < (458170 + (node_x_world[0]-136613)*(455529-458170)/(137238-136613))\n",
    "idx_east_l2 = (east_l2 & (~si.binary_erosion(east_l2, structure=np.ones((1,3)))).astype(int))[:, 1:].argmax(axis=1)+1\n",
    "\n",
    "west_l2 = node_y_world[0] < (455522 + (node_x_world[0]-137947)*(458167-455522)/(137960-137947))\n",
    "idx_west_l2 = (west_l2 & (~si.binary_erosion(west_l2, structure=np.ones((1,3)))).astype(int))[:, 1:].argmax(axis=1)+1\n"
   ]
  },
  {
   "cell_type": "code",
   "execution_count": 16,
   "metadata": {},
   "outputs": [
    {
     "data": {
      "text/plain": [
       "(13, 477)"
      ]
     },
     "execution_count": 16,
     "metadata": {},
     "output_type": "execute_result"
    }
   ],
   "source": [
    "model_min_x, model_min_y, model_max_x, model_max_y = model_bbox\n",
    "in_bbox = []\n",
    "for shapeRec in contours_h1.iterShapeRecords():\n",
    "    min_x, min_y, max_x, max_y = shapeRec.shape.bbox\n",
    "    if min_x <= model_max_x and max_x >= model_min_x and min_y <= model_max_y and max_y >= model_min_y:\n",
    "        in_bbox.append(shapeRec)\n"
   ]
  },
  {
   "cell_type": "code",
   "execution_count": 31,
   "metadata": {},
   "outputs": [
    {
     "data": {
      "text/plain": [
       "[169666.7590520991, 440766.0789234838, 169817.33794406886, 441396.7569014548]"
      ]
     },
     "execution_count": 31,
     "metadata": {},
     "output_type": "execute_result"
    }
   ],
   "source": [
    "contours_h1.shapeRecord(i=333).shape.bbox"
   ]
  },
  {
   "cell_type": "code",
   "execution_count": 7,
   "metadata": {},
   "outputs": [
    {
     "data": {
      "text/plain": [
       "[(169817.33794406886, 440766.0789234838),\n",
       " (169816.43727530955, 440778.33940000803),\n",
       " (169773.01678730888, 440896.7585954535),\n",
       " (169761.84644200138, 440960.5897042001),\n",
       " (169730.2702001179, 441114.50083890103),\n",
       " (169724.330049037, 441146.757950826),\n",
       " (169720.23294067255, 441168.97831844096),\n",
       " (169698.01078589656, 441271.7574609312),\n",
       " (169674.19804772653, 441372.9456957552),\n",
       " (169666.7590520991, 441396.7569014548)]"
      ]
     },
     "execution_count": 7,
     "metadata": {},
     "output_type": "execute_result"
    }
   ],
   "source": [
    "contours_h1.shapeRecord(i=333).shape.points"
   ]
  },
  {
   "cell_type": "code",
   "execution_count": 24,
   "metadata": {},
   "outputs": [
    {
     "data": {
      "text/plain": [
       "<matplotlib.image.AxesImage at 0x7f5cffc0d198>"
      ]
     },
     "execution_count": 24,
     "metadata": {},
     "output_type": "execute_result"
    },
    {
     "data": {
      "image/png": "[encoded data removed]",
      "text/plain": [
       "<Figure size 432x288 with 1 Axes>"
      ]
     },
     "metadata": {
      "needs_background": "light"
     },
     "output_type": "display_data"
    }
   ],
   "source": [
    "ibound = np.ones(dis.botm.shape, dtype=np.int)\n",
    "init_head = np.zeros(dis.botm.shape, dtype=np.float)\n",
    "\n",
    "ibound[5:, east_l2] = 0\n",
    "ibound[5:, west_l2] = 0\n",
    "for r,c in enumerate(idx_east_l2):\n",
    "    ibound[5:, r, c] = -1\n",
    "    init_head[5:, r, c] = -0.25\n",
    "for r,c in enumerate(idx_west_l2):\n",
    "    ibound[5:, r, c] = -1\n",
    "    init_head[5:, r, c] = 0\n",
    "# ibound[5:, :, idx_east_l2] = -1\n",
    "# ibound[5:, :, idx_west_l2] = -1\n",
    "# init_head[5:, :, idx_west_l2] = 0\n",
    "\n",
    "# constant_heads = (ibound & ~si.binary_erosion(ibound, structure=np.ones((1, 1, 3))))\n",
    "# ibound[constant_heads==1] = -1\n",
    "# np.sum(ibound, axis=1)\n",
    "# constant_heads\n",
    "plt.imshow(ibound[5])"
   ]
  },
  {
   "cell_type": "code",
   "execution_count": 9,
   "metadata": {},
   "outputs": [],
   "source": [
    "bas = flopy.modflow.ModflowBas(\n",
    "    model=mf,\n",
    "    ibound=ibound,\n",
    "    strt=init_head\n",
    ")\n",
    "# ibound[0]"
   ]
  },
  {
   "cell_type": "code",
   "execution_count": 10,
   "metadata": {},
   "outputs": [],
   "source": [
    "seed = gstools.random.MasterRNG(20190517)\n",
    "# horizontal_conductivity = np.array([1, 1, 1, 1, 1, 5, 5, 5, 5, 5])\n",
    "\n",
    "model_layer_1 = gstools.Gaussian(dim=3, var=1, len_scale=[50, 50, 5])\n",
    "model_layer_2 = gstools.Gaussian(dim=3, var=2, len_scale=[40, 40, 3])\n",
    "\n",
    "srf_layer_1 = gstools.SRF(model=model_layer_1, mean=25, upscaling='coarse_graining')\n",
    "srf_layer_2 = gstools.SRF(model=model_layer_1, mean=35, upscaling='coarse_graining')\n",
    "\n",
    "field_layer_1 = srf_layer_1(pos=(node_x[:5].flatten(), node_y[:5].flatten(), node_z[:5].flatten()), seed=seed(), point_volumes=node_vol[:5].flatten())\n",
    "field_layer_1 = np.reshape(field_layer_1, node_x[:5].shape)\n",
    "field_layer_2 = srf_layer_2(pos=(node_x[5:].flatten(), node_y[5:].flatten(), node_z[5:].flatten()), seed=seed(), point_volumes=node_vol[5:].flatten())\n",
    "field_layer_2 = np.reshape(field_layer_1, node_x[5:].shape)\n",
    "horizontal_conductivity = np.zeros(node_x.shape)\n",
    "horizontal_conductivity[:5] = field_layer_1\n",
    "horizontal_conductivity[5:] = field_layer_2\n",
    "vertical_conductivity = horizontal_conductivity/10\n",
    "\n",
    "lpf = flopy.modflow.ModflowLpf(\n",
    "    model=mf,\n",
    "    hk=horizontal_conductivity,\n",
    "    vka=vertical_conductivity\n",
    ")"
   ]
  },
  {
   "cell_type": "code",
   "execution_count": 26,
   "metadata": {},
   "outputs": [
    {
     "data": {
      "text/plain": [
       "[<matplotlib.axes._subplots.AxesSubplot at 0x7f5cff336470>,\n",
       " <matplotlib.axes._subplots.AxesSubplot at 0x7f5cfef94c88>]"
      ]
     },
     "execution_count": 26,
     "metadata": {},
     "output_type": "execute_result"
    },
    {
     "data": {
      "image/png": "[encoded data removed]",
      "text/plain": [
       "<Figure size 432x288 with 2 Axes>"
      ]
     },
     "metadata": {
      "needs_background": "light"
     },
     "output_type": "display_data"
    },
    {
     "data": {
      "image/png": "[encoded data removed]",
      "text/plain": [
       "<Figure size 432x288 with 2 Axes>"
      ]
     },
     "metadata": {
      "needs_background": "light"
     },
     "output_type": "display_data"
    }
   ],
   "source": [
    "bas.plot(mflay=5)"
   ]
  },
  {
   "cell_type": "code",
   "execution_count": 11,
   "metadata": {},
   "outputs": [],
   "source": [
    "ll = dis.get_rc_from_node_coordinates(137128-model_extent['X'][0], 456890-model_extent['Y'][0])\n",
    "ur = dis.get_rc_from_node_coordinates(137206-model_extent['X'][0], 457041-model_extent['Y'][0])\n",
    "\n",
    "recharge = np.ones(dis.botm.shape[1:], dtype=np.float)*0.200/365\n",
    "recharge[(ur[0]):(ll[0]+1), (ll[1]):(ur[1]+1)] = 0\n",
    "rch = flopy.modflow.ModflowRch(\n",
    "    model=mf,\n",
    "    rech=-recharge\n",
    ")"
   ]
  },
  {
   "cell_type": "code",
   "execution_count": 12,
   "metadata": {},
   "outputs": [],
   "source": [
    "oc_spd = {(p,s): ['SAVE HEAD', 'SAVE BUDGET'] for p, sp in enumerate(stress_periods) for s in range(sp['n_steps'])}\n",
    "oc = flopy.modflow.ModflowOc(\n",
    "    model=mf,\n",
    "    stress_period_data=oc_spd\n",
    ")"
   ]
  },
  {
   "cell_type": "code",
   "execution_count": 13,
   "metadata": {},
   "outputs": [],
   "source": [
    "solver = flopy.modflow.ModflowPcg(\n",
    "    model=mf\n",
    ")"
   ]
  },
  {
   "cell_type": "code",
   "execution_count": 14,
   "metadata": {},
   "outputs": [
    {
     "name": "stdout",
     "output_type": "stream",
     "text": [
      "FloPy is using the following  executable to run the model: /home/hugo/modflow/bin/mf2005\n",
      "\n",
      "                                  MODFLOW-2005     \n",
      "    U.S. GEOLOGICAL SURVEY MODULAR FINITE-DIFFERENCE GROUND-WATER FLOW MODEL\n",
      "                             Version 1.12.00 2/3/2017                        \n",
      "\n",
      " Using NAME file: Griftpark.nam \n",
      " Run start date and time (yyyy/mm/dd hh:mm:ss): 2019/05/20 14:09:13\n",
      "\n",
      " Solving:  Stress period:     1    Time step:     1    Ground-Water Flow Eqn.\n",
      " Run end date and time (yyyy/mm/dd hh:mm:ss): 2019/05/20 14:09:14\n",
      " Elapsed run time:  0.480 Seconds\n",
      "\n",
      "  Normal termination of simulation\n"
     ]
    },
    {
     "data": {
      "text/plain": [
       "(True, [])"
      ]
     },
     "execution_count": 14,
     "metadata": {},
     "output_type": "execute_result"
    }
   ],
   "source": [
    "mf.write_input()\n",
    "mf.run_model()"
   ]
  },
  {
   "cell_type": "code",
   "execution_count": 30,
   "metadata": {},
   "outputs": [
    {
     "data": {
      "text/plain": [
       "<matplotlib.legend.Legend at 0x7fb724c0f4e0>"
      ]
     },
     "execution_count": 30,
     "metadata": {},
     "output_type": "execute_result"
    },
    {
     "data": {
      "image/png": "[encoded data removed]",
      "text/plain": [
       "<Figure size 1152x720 with 2 Axes>"
      ]
     },
     "metadata": {
      "needs_background": "light"
     },
     "output_type": "display_data"
    }
   ],
   "source": [
    "hds_file = flopy.utils.HeadFile(model_workspace / f'{modelname}.hds')\n",
    "heads = hds_file.get_data()\n",
    "\n",
    "fig, ax = plt.subplots(figsize=(16,10))\n",
    "ax.set_aspect(1)\n",
    "pmv = flopy.plot.PlotMapView(\n",
    "    model=mf,\n",
    "    ax=ax,\n",
    "    layer=5,\n",
    ")\n",
    "pmv.plot_grid()\n",
    "c = pmv.plot_array(heads, masked_values=[-999.99])\n",
    "plt.colorbar(c)\n",
    "\n",
    "model_min_x, model_min_y, model_max_x, model_max_y = model_bbox\n",
    "fieldnames = [fn[0] for fn in contours_h1.fields[1:]]\n",
    "level_index = fieldnames.index('M_NAP')\n",
    "in_bbox = []\n",
    "for shapeRec in contours_h1.iterShapeRecords():\n",
    "    min_x, min_y, max_x, max_y = shapeRec.shape.bbox\n",
    "    if min_x <= model_max_x and max_x >= model_min_x and min_y <= model_max_y and max_y >= model_min_y:\n",
    "        points = np.array(shapeRec.shape.points)\n",
    "        for point in points:\n",
    "            x, y = point\n",
    "            if x <= model_max_x and x >= model_min_x and y <= model_max_y and y >= model_min_y:\n",
    "                in_bbox.append(shapeRec)\n",
    "                ax.plot(points[:, 0], points[:, 1], '--', label=shapeRec.record[level_index])\n",
    "                break\n",
    "ax.legend()\n",
    "\n",
    "# for contour in contours_h1.shapeRecords():\n",
    "#     points = np.array(contour.shape.points)\n",
    "# #     print(contour.shape.points)\n",
    "#     ax.plot(points[:, 0], points[:, 1], '--', color='k')\n",
    "# for contour in contours_h2.shapeRecords():\n",
    "#     points = np.array(contour.shape.points)\n",
    "# #     print(contour.shape.points)\n",
    "#     ax.plot(points[:, 0], points[:, 1], '-.', color='k')\n",
    "# #     break\n",
    "# ax.plot(np.array([(136500, 456000), (138500, 457500)])[:, 0], np.array([(136500, 456000), (138500, 457500)])[:, 1], color='k')\n",
    "# dir(ax)\n",
    "# flopy.plot.plot_shapefile('data/h1.shp', cmap='viridis', ax=ax, linewidths=0.12)"
   ]
  },
  {
   "cell_type": "code",
   "execution_count": 31,
   "metadata": {},
   "outputs": [
    {
     "data": {
      "text/plain": [
       "[<shapefile.ShapeRecord at 0x7fb728ded1d0>,\n",
       " <shapefile.ShapeRecord at 0x7fb7290af240>,\n",
       " <shapefile.ShapeRecord at 0x7fb729172da0>]"
      ]
     },
     "execution_count": 31,
     "metadata": {},
     "output_type": "execute_result"
    }
   ],
   "source": [
    "in_bbox"
   ]
  },
  {
   "cell_type": "code",
   "execution_count": null,
   "metadata": {},
   "outputs": [],
   "source": []
  }
 ],
 "metadata": {
  "kernelspec": {
   "display_name": "Python 3",
   "language": "python",
   "name": "python3"
  },
  "language_info": {
   "codemirror_mode": {
    "name": "ipython",
    "version": 3
   },
   "file_extension": ".py",
   "mimetype": "text/x-python",
   "name": "python",
   "nbconvert_exporter": "python",
   "pygments_lexer": "ipython3",
   "version": "3.7.0"
  }
 },
 "nbformat": 4,
 "nbformat_minor": 2
}
